{
 "cells": [
  {
   "cell_type": "markdown",
   "metadata": {},
   "source": [
    "TODO:\n",
    "# Business Hours Column\n",
    "\n",
    "# GeoMap\n",
    "# Latitude, Longitude\n",
    "\n",
    "# Make If-Else statement before running model\n",
    "    - if EXCLUSIVE_USE_REQUESTED: only run FTL model\n",
    "    - if HAZARDOUS: only run FTL model"
   ]
  },
  {
   "cell_type": "code",
   "execution_count": null,
   "metadata": {},
   "outputs": [],
   "source": [
    "import geopandas\n",
    "import pandas as pd\n",
    "import pandas_bokeh\n",
    "import matplotlib.pyplot as plt\n",
    "pandas_bokeh.output_notebook()\n",
    "\n",
    "canada = geopandas.read_file(\"./gfsa000b11a_e.shp\")\n",
    "ontario = canada[canada['PRUID'] == '35']\n",
    "\n",
    "# Sample data to plot\n",
    "df=pd.DataFrame({'PCODE': ['P0V','P0L','P0T','P0Y', 'P0G', 'P2N'], 'A':[6,3,5,2,2,4] })\n",
    "\n",
    "# Join ontario dataset with sample data\n",
    "new_df=ontario.join(df.set_index('PCODE'), on='CFSAUID')\n",
    "\n",
    "\n",
    "new_df.plot_bokeh(simplify_shapes=20000,\n",
    "                  category=\"A\", \n",
    "                  colormap=\"Spectral\", \n",
    "                  hovertool_columns=[\"CFSAUID\",\"A\"])"
   ]
  }
 ],
 "metadata": {
  "kernelspec": {
   "display_name": "Python 3.9.15 ('venv': venv)",
   "language": "python",
   "name": "python3"
  },
  "language_info": {
   "name": "python",
   "version": "3.9.15"
  },
  "orig_nbformat": 4,
  "vscode": {
   "interpreter": {
    "hash": "c0b45e24b1532e4bee7552c18fea40c3afd15e0e358717d9263e0f07df741db5"
   }
  }
 },
 "nbformat": 4,
 "nbformat_minor": 2
}
