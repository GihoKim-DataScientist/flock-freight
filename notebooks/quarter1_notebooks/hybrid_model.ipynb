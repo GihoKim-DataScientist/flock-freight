{
 "cells": [
  {
   "cell_type": "code",
   "execution_count": 1,
   "metadata": {},
   "outputs": [],
   "source": [
    "import pandas as pd\n",
    "\n",
    "from src.models import pooled_proba_model\n",
    "from src.models import pooled_regression_model\n",
    "from src.models import quote_regression_model\n",
    "\n",
    "from src.features import data_for_modelling\n",
    "\n",
    "# get data\n",
    "orders_raw, offers_raw = data_for_modelling.get_raw_data()\n",
    "\n",
    "# clean data\n",
    "_, _, merged = data_for_modelling.clean_all(orders_raw, offers_raw)\n",
    "\n",
    "# split offers into train test\n",
    "merged_train, merged_test = data_for_modelling.split_train_test(merged)\n",
    "\n",
    "# pickle data\n",
    "merged_train.to_pickle(\"./data/pickels/merged_train.pkl\") \n",
    "merged_test.to_pickle(\"./data/pickels/merged_test.pkl\") \n",
    "\n",
    "# # read pickled data\n",
    "# merged_train = pd.read_pickle(\"./data/pickels/merged_train.pkl\") \n",
    "# merged_test = pd.read_pickle(\"./data/pickels/merged_test.pkl\") "
   ]
  },
  {
   "cell_type": "code",
   "execution_count": 15,
   "metadata": {},
   "outputs": [],
   "source": [
    "merged_test.sort_values(by=[\"REFERENCE_NUMBER\", \"CREATED_ON_HQ\"], ascending=True)\n",
    "\n",
    "pooled_proba_pl, (df_X_test, df_y_test) = pooled_proba_model.generate_probability_pipeline(merged_train)\n",
    "pooled_reg_pl, (df_X_test, df_y_test) = pooled_regression_model.generate_pooled_regression_pipeline(merged_train)\n",
    "quote_reg_pl, (df_X_test, df_y_test) = quote_regression_model.generate_quote_regression_pipeline(merged_train)\n",
    "\n",
    "probas = pooled_proba_pl.predict_proba(merged_test).T[0]\n",
    "pooled_cost = pooled_reg_pl.predict(merged_test)\n",
    "quote_cost = quote_reg_pl.predict(merged_test)\n",
    "\n",
    "weighted_cost = probas * pooled_cost  + (1-probas) *  quote_cost"
   ]
  },
  {
   "cell_type": "code",
   "execution_count": 16,
   "metadata": {},
   "outputs": [],
   "source": [
    "merged_test[\"ESTIMATED_COST_NEW\"] = weighted_cost"
   ]
  },
  {
   "cell_type": "code",
   "execution_count": 19,
   "metadata": {},
   "outputs": [
    {
     "data": {
      "text/html": [
       "<div>\n",
       "<style scoped>\n",
       "    .dataframe tbody tr th:only-of-type {\n",
       "        vertical-align: middle;\n",
       "    }\n",
       "\n",
       "    .dataframe tbody tr th {\n",
       "        vertical-align: top;\n",
       "    }\n",
       "\n",
       "    .dataframe thead th {\n",
       "        text-align: right;\n",
       "    }\n",
       "</style>\n",
       "<table border=\"1\" class=\"dataframe\">\n",
       "  <thead>\n",
       "    <tr style=\"text-align: right;\">\n",
       "      <th></th>\n",
       "      <th>CARRIER_ID</th>\n",
       "      <th>REFERENCE_NUMBER</th>\n",
       "      <th>CREATED_ON_HQ</th>\n",
       "      <th>RATE_USD</th>\n",
       "      <th>OFFER_TYPE</th>\n",
       "      <th>LOAD_DELIVERED_FROM_OFFER</th>\n",
       "      <th>ORDER_DATETIME_PST</th>\n",
       "      <th>PICKUP_DEADLINE_PST</th>\n",
       "      <th>ORIGIN_3DIGIT_ZIP</th>\n",
       "      <th>DESTINATION_3DIGIT_ZIP</th>\n",
       "      <th>...</th>\n",
       "      <th>ORDER_DAY</th>\n",
       "      <th>ORDER_MONTH</th>\n",
       "      <th>ORDER_HOUR</th>\n",
       "      <th>PICKUP_DAY</th>\n",
       "      <th>PICKUP_MONTH</th>\n",
       "      <th>PICKUP_HOUR</th>\n",
       "      <th>REMAINIG_TIME</th>\n",
       "      <th>BUSINESS_HOURS</th>\n",
       "      <th>BUSINESS_HOURS_ORDER_PICKUP</th>\n",
       "      <th>PRORATED_RATE_USD</th>\n",
       "    </tr>\n",
       "  </thead>\n",
       "  <tbody>\n",
       "    <tr>\n",
       "      <th>0</th>\n",
       "      <td>0629d63476c157a6cfe234f7a34422eb0ad94998c2d082...</td>\n",
       "      <td>ce3548db155049cc1ccce2da041cec607942e4f779fc2d...</td>\n",
       "      <td>2021-11-03 08:54:13</td>\n",
       "      <td>9546.0</td>\n",
       "      <td>pool</td>\n",
       "      <td>False</td>\n",
       "      <td>2021-11-02 12:56:49</td>\n",
       "      <td>2021-11-03 16:00:00</td>\n",
       "      <td>945</td>\n",
       "      <td>601</td>\n",
       "      <td>...</td>\n",
       "      <td>1</td>\n",
       "      <td>11</td>\n",
       "      <td>12</td>\n",
       "      <td>2</td>\n",
       "      <td>11</td>\n",
       "      <td>16</td>\n",
       "      <td>25547.0</td>\n",
       "      <td>True</td>\n",
       "      <td>13.053056</td>\n",
       "      <td>795.5</td>\n",
       "    </tr>\n",
       "  </tbody>\n",
       "</table>\n",
       "<p>1 rows × 25 columns</p>\n",
       "</div>"
      ],
      "text/plain": [
       "                                          CARRIER_ID  \\\n",
       "0  0629d63476c157a6cfe234f7a34422eb0ad94998c2d082...   \n",
       "\n",
       "                                    REFERENCE_NUMBER       CREATED_ON_HQ  \\\n",
       "0  ce3548db155049cc1ccce2da041cec607942e4f779fc2d... 2021-11-03 08:54:13   \n",
       "\n",
       "   RATE_USD OFFER_TYPE  LOAD_DELIVERED_FROM_OFFER  ORDER_DATETIME_PST  \\\n",
       "0    9546.0       pool                      False 2021-11-02 12:56:49   \n",
       "\n",
       "  PICKUP_DEADLINE_PST ORIGIN_3DIGIT_ZIP DESTINATION_3DIGIT_ZIP  ...  \\\n",
       "0 2021-11-03 16:00:00               945                    601  ...   \n",
       "\n",
       "   ORDER_DAY  ORDER_MONTH  ORDER_HOUR PICKUP_DAY PICKUP_MONTH  PICKUP_HOUR  \\\n",
       "0          1           11          12          2           11           16   \n",
       "\n",
       "   REMAINIG_TIME  BUSINESS_HOURS  BUSINESS_HOURS_ORDER_PICKUP  \\\n",
       "0        25547.0            True                    13.053056   \n",
       "\n",
       "   PRORATED_RATE_USD  \n",
       "0              795.5  \n",
       "\n",
       "[1 rows x 25 columns]"
      ]
     },
     "execution_count": 19,
     "metadata": {},
     "output_type": "execute_result"
    }
   ],
   "source": [
    "merged.head(1)"
   ]
  },
  {
   "cell_type": "code",
   "execution_count": null,
   "metadata": {},
   "outputs": [],
   "source": []
  }
 ],
 "metadata": {
  "kernelspec": {
   "display_name": "Python 3.9.15 ('venv': venv)",
   "language": "python",
   "name": "python3"
  },
  "language_info": {
   "codemirror_mode": {
    "name": "ipython",
    "version": 3
   },
   "file_extension": ".py",
   "mimetype": "text/x-python",
   "name": "python",
   "nbconvert_exporter": "python",
   "pygments_lexer": "ipython3",
   "version": "3.9.15"
  },
  "orig_nbformat": 4,
  "vscode": {
   "interpreter": {
    "hash": "c0b45e24b1532e4bee7552c18fea40c3afd15e0e358717d9263e0f07df741db5"
   }
  }
 },
 "nbformat": 4,
 "nbformat_minor": 2
}
