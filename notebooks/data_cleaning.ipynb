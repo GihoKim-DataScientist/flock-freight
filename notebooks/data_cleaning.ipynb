{
 "cells": [
  {
   "cell_type": "code",
   "execution_count": 1,
   "metadata": {},
   "outputs": [],
   "source": [
    "import sys\n",
    "\n",
    "import pandas as pd\n",
    "import numpy as np\n",
    "\n",
    "sys.path.insert(1, \"../src/features\")\n",
    "\n",
    "import data_cleaning\n",
    "\n",
    "# allows all columns to be displayed\n",
    "pd.set_option('display.max_columns', None)"
   ]
  },
  {
   "cell_type": "markdown",
   "metadata": {},
   "source": [
    "### Reading Data"
   ]
  },
  {
   "cell_type": "markdown",
   "metadata": {},
   "source": [
    "Only keep relevant columns"
   ]
  },
  {
   "cell_type": "code",
   "execution_count": 2,
   "metadata": {},
   "outputs": [],
   "source": [
    "OFFER_DATA_DIR = \"../data/offer_acceptance_offers.csv\"\n",
    "ORDER_DATA_DIR = \"../data/offer_acceptance_orders.csv\"\n",
    "\n",
    "offers = pd.read_csv(OFFER_DATA_DIR, low_memory=False)[[\"CARRIER_ID\", \"REFERENCE_NUMBER\", \"CREATED_ON_HQ\", \"RATE_USD\", \"OFFER_TYPE\", \"LOAD_DELIVERED_FROM_OFFER\"]]\n",
    "orders = pd.read_csv(ORDER_DATA_DIR, low_memory=False)[[\"REFERENCE_NUMBER\", \"ORDER_DATETIME_PST\", \"PICKUP_DEADLINE_PST\", \"ORIGIN_3DIGIT_ZIP\", \"DESTINATION_3DIGIT_ZIP\", \"APPROXIMATE_DRIVING_ROUTE_MILEAGE\", \"PALLETIZED_LINEAR_FEET\"]]"
   ]
  },
  {
   "cell_type": "markdown",
   "metadata": {},
   "source": [
    "### Data Cleaning"
   ]
  },
  {
   "cell_type": "markdown",
   "metadata": {},
   "source": [
    "Convert date columns to DateTime objects"
   ]
  },
  {
   "cell_type": "code",
   "execution_count": 3,
   "metadata": {},
   "outputs": [],
   "source": [
    "offers = data_cleaning.change_to_date(offers, [\"CREATED_ON_HQ\"])\n",
    "orders = data_cleaning.change_to_date(orders, [\"ORDER_DATETIME_PST\", \"PICKUP_DEADLINE_PST\"])"
   ]
  },
  {
   "cell_type": "markdown",
   "metadata": {},
   "source": [
    "Extract nearest city and state name from zipcode"
   ]
  },
  {
   "cell_type": "code",
   "execution_count": 4,
   "metadata": {},
   "outputs": [],
   "source": [
    "orders = data_cleaning.parse_zipcode(orders)"
   ]
  },
  {
   "cell_type": "markdown",
   "metadata": {},
   "source": [
    "Offers can have multiple REFERENCE_NUMBER values if the offer is being made to multiple orders (i.e., PTL, or the carrier offers to pick up multiple orders with one truck).  \n",
    "We need to flatten offers with multiple REFERENCE_NUMBER values."
   ]
  },
  {
   "cell_type": "code",
   "execution_count": 5,
   "metadata": {},
   "outputs": [],
   "source": [
    "offers = data_cleaning.flatten_ref_num(offers)\n",
    "orders = data_cleaning.flatten_ref_num(orders)"
   ]
  },
  {
   "cell_type": "markdown",
   "metadata": {},
   "source": [
    "Match each offer with respective order"
   ]
  },
  {
   "cell_type": "code",
   "execution_count": 6,
   "metadata": {},
   "outputs": [],
   "source": [
    "merged = data_cleaning.join_offers_orders(offers, orders)"
   ]
  },
  {
   "cell_type": "markdown",
   "metadata": {},
   "source": [
    "Drop the columns that have NA to avoid value error later"
   ]
  },
  {
   "cell_type": "code",
   "execution_count": 7,
   "metadata": {},
   "outputs": [],
   "source": [
    "merged = merged.dropna()"
   ]
  },
  {
   "cell_type": "markdown",
   "metadata": {},
   "source": [
    "Calculate time remaining from when offer was made"
   ]
  },
  {
   "cell_type": "code",
   "execution_count": 8,
   "metadata": {},
   "outputs": [],
   "source": [
    "merged = data_cleaning.get_remaining_time(merged)"
   ]
  },
  {
   "cell_type": "markdown",
   "metadata": {},
   "source": [
    "Calculate whether offer was made during business hours"
   ]
  },
  {
   "cell_type": "code",
   "execution_count": 9,
   "metadata": {},
   "outputs": [],
   "source": [
    "merged = data_cleaning.during_business_hours(merged)"
   ]
  },
  {
   "cell_type": "markdown",
   "metadata": {},
   "source": [
    "Calculates prorated rate of pooled items"
   ]
  },
  {
   "cell_type": "code",
   "execution_count": 10,
   "metadata": {},
   "outputs": [],
   "source": [
    "pooled = data_cleaning.get_prorated_rate(merged)"
   ]
  },
  {
   "cell_type": "markdown",
   "metadata": {},
   "source": [
    "Count the number of hours between order time and pickup time that are in business hours"
   ]
  },
  {
   "cell_type": "code",
   "execution_count": 11,
   "metadata": {},
   "outputs": [],
   "source": [
    "pooled = data_cleaning.get_business_hours(pooled)\n",
    "# It takes about 2 minutes to run."
   ]
  },
  {
   "cell_type": "markdown",
   "metadata": {},
   "source": [
    "Count the number of hours between order time and pickup time that are in business hours"
   ]
  },
  {
   "cell_type": "code",
   "execution_count": 12,
   "metadata": {},
   "outputs": [],
   "source": [
    "pooled = data_cleaning.get_off_business_hours(pooled)\n",
    "# It takes about 1 minute to run."
   ]
  },
  {
   "cell_type": "markdown",
   "metadata": {},
   "source": [
    "Get the weekday of PICKUP_DEADLINE_PST"
   ]
  },
  {
   "cell_type": "code",
   "execution_count": 13,
   "metadata": {},
   "outputs": [],
   "source": [
    "pooled = data_cleaning.get_weekday(pooled)"
   ]
  },
  {
   "cell_type": "markdown",
   "metadata": {},
   "source": [
    "Note!!! \n",
    "\n",
    "I only applied the functions of get_business_hours, get_off_business_hours, and get_weekday in the pooled dataset to save runtime. It should be the same when\n",
    "you apply them to the unpooled dataset."
   ]
  },
  {
   "cell_type": "code",
   "execution_count": 14,
   "metadata": {},
   "outputs": [
    {
     "data": {
      "text/html": [
       "<div>\n",
       "<style scoped>\n",
       "    .dataframe tbody tr th:only-of-type {\n",
       "        vertical-align: middle;\n",
       "    }\n",
       "\n",
       "    .dataframe tbody tr th {\n",
       "        vertical-align: top;\n",
       "    }\n",
       "\n",
       "    .dataframe thead th {\n",
       "        text-align: right;\n",
       "    }\n",
       "</style>\n",
       "<table border=\"1\" class=\"dataframe\">\n",
       "  <thead>\n",
       "    <tr style=\"text-align: right;\">\n",
       "      <th></th>\n",
       "      <th>CARRIER_ID</th>\n",
       "      <th>REFERENCE_NUMBER</th>\n",
       "      <th>CREATED_ON_HQ</th>\n",
       "      <th>RATE_USD</th>\n",
       "      <th>OFFER_TYPE</th>\n",
       "      <th>LOAD_DELIVERED_FROM_OFFER</th>\n",
       "      <th>ORDER_DATETIME_PST</th>\n",
       "      <th>PICKUP_DEADLINE_PST</th>\n",
       "      <th>ORIGIN_3DIGIT_ZIP</th>\n",
       "      <th>DESTINATION_3DIGIT_ZIP</th>\n",
       "      <th>APPROXIMATE_DRIVING_ROUTE_MILEAGE</th>\n",
       "      <th>PALLETIZED_LINEAR_FEET</th>\n",
       "      <th>ORIGIN_CITY</th>\n",
       "      <th>DESTINATION_CITY</th>\n",
       "      <th>REMAINIG_TIME</th>\n",
       "      <th>BUSINESS_HOURS</th>\n",
       "    </tr>\n",
       "  </thead>\n",
       "  <tbody>\n",
       "    <tr>\n",
       "      <th>0</th>\n",
       "      <td>0629d63476c157a6cfe234f7a34422eb0ad94998c2d082...</td>\n",
       "      <td>ce3548db155049cc1ccce2da041cec607942e4f779fc2d...</td>\n",
       "      <td>2021-11-03 08:54:13</td>\n",
       "      <td>9546.0</td>\n",
       "      <td>pool</td>\n",
       "      <td>False</td>\n",
       "      <td>2021-11-02 12:56:49</td>\n",
       "      <td>2021-11-03 16:00:00</td>\n",
       "      <td>945</td>\n",
       "      <td>601</td>\n",
       "      <td>2131.0</td>\n",
       "      <td>4.0</td>\n",
       "      <td>Oakland CA</td>\n",
       "      <td>Chicago IL</td>\n",
       "      <td>0 days 07:05:47</td>\n",
       "      <td>True</td>\n",
       "    </tr>\n",
       "  </tbody>\n",
       "</table>\n",
       "</div>"
      ],
      "text/plain": [
       "                                          CARRIER_ID  \\\n",
       "0  0629d63476c157a6cfe234f7a34422eb0ad94998c2d082...   \n",
       "\n",
       "                                    REFERENCE_NUMBER       CREATED_ON_HQ  \\\n",
       "0  ce3548db155049cc1ccce2da041cec607942e4f779fc2d... 2021-11-03 08:54:13   \n",
       "\n",
       "   RATE_USD OFFER_TYPE  LOAD_DELIVERED_FROM_OFFER  ORDER_DATETIME_PST  \\\n",
       "0    9546.0       pool                      False 2021-11-02 12:56:49   \n",
       "\n",
       "  PICKUP_DEADLINE_PST ORIGIN_3DIGIT_ZIP DESTINATION_3DIGIT_ZIP  \\\n",
       "0 2021-11-03 16:00:00               945                    601   \n",
       "\n",
       "   APPROXIMATE_DRIVING_ROUTE_MILEAGE  PALLETIZED_LINEAR_FEET ORIGIN_CITY  \\\n",
       "0                             2131.0                     4.0  Oakland CA   \n",
       "\n",
       "  DESTINATION_CITY   REMAINIG_TIME  BUSINESS_HOURS  \n",
       "0       Chicago IL 0 days 07:05:47            True  "
      ]
     },
     "execution_count": 14,
     "metadata": {},
     "output_type": "execute_result"
    }
   ],
   "source": [
    "merged.head(1)"
   ]
  },
  {
   "cell_type": "code",
   "execution_count": 15,
   "metadata": {},
   "outputs": [
    {
     "data": {
      "text/html": [
       "<div>\n",
       "<style scoped>\n",
       "    .dataframe tbody tr th:only-of-type {\n",
       "        vertical-align: middle;\n",
       "    }\n",
       "\n",
       "    .dataframe tbody tr th {\n",
       "        vertical-align: top;\n",
       "    }\n",
       "\n",
       "    .dataframe thead th {\n",
       "        text-align: right;\n",
       "    }\n",
       "</style>\n",
       "<table border=\"1\" class=\"dataframe\">\n",
       "  <thead>\n",
       "    <tr style=\"text-align: right;\">\n",
       "      <th></th>\n",
       "      <th>CARRIER_ID</th>\n",
       "      <th>REFERENCE_NUMBER</th>\n",
       "      <th>CREATED_ON_HQ</th>\n",
       "      <th>RATE_USD</th>\n",
       "      <th>LOAD_DELIVERED_FROM_OFFER</th>\n",
       "      <th>ORDER_DATETIME_PST</th>\n",
       "      <th>PICKUP_DEADLINE_PST</th>\n",
       "      <th>ORIGIN_3DIGIT_ZIP</th>\n",
       "      <th>DESTINATION_3DIGIT_ZIP</th>\n",
       "      <th>APPROXIMATE_DRIVING_ROUTE_MILEAGE</th>\n",
       "      <th>PALLETIZED_LINEAR_FEET</th>\n",
       "      <th>ORIGIN_CITY</th>\n",
       "      <th>DESTINATION_CITY</th>\n",
       "      <th>REMAINIG_TIME</th>\n",
       "      <th>BUSINESS_HOURS</th>\n",
       "      <th>PRORATED_RATE_USD</th>\n",
       "      <th>BUSINESS_HOURS_ORDER_PICKUP</th>\n",
       "      <th>OFF_BUSINESS_HOURS_ORDER_PICKUP</th>\n",
       "      <th>WEEKDAY_NUM</th>\n",
       "    </tr>\n",
       "  </thead>\n",
       "  <tbody>\n",
       "    <tr>\n",
       "      <th>0</th>\n",
       "      <td>0629d63476c157a6cfe234f7a34422eb0ad94998c2d082...</td>\n",
       "      <td>ce3548db155049cc1ccce2da041cec607942e4f779fc2d...</td>\n",
       "      <td>2021-11-03 08:54:13</td>\n",
       "      <td>9546.0</td>\n",
       "      <td>False</td>\n",
       "      <td>2021-11-02 12:56:49</td>\n",
       "      <td>2021-11-03 16:00:00</td>\n",
       "      <td>945</td>\n",
       "      <td>601</td>\n",
       "      <td>2131.0</td>\n",
       "      <td>4.0</td>\n",
       "      <td>Oakland CA</td>\n",
       "      <td>Chicago IL</td>\n",
       "      <td>0 days 07:05:47</td>\n",
       "      <td>True</td>\n",
       "      <td>795.5</td>\n",
       "      <td>13.053056</td>\n",
       "      <td>14.0</td>\n",
       "      <td>2</td>\n",
       "    </tr>\n",
       "  </tbody>\n",
       "</table>\n",
       "</div>"
      ],
      "text/plain": [
       "                                          CARRIER_ID  \\\n",
       "0  0629d63476c157a6cfe234f7a34422eb0ad94998c2d082...   \n",
       "\n",
       "                                    REFERENCE_NUMBER       CREATED_ON_HQ  \\\n",
       "0  ce3548db155049cc1ccce2da041cec607942e4f779fc2d... 2021-11-03 08:54:13   \n",
       "\n",
       "   RATE_USD  LOAD_DELIVERED_FROM_OFFER  ORDER_DATETIME_PST  \\\n",
       "0    9546.0                      False 2021-11-02 12:56:49   \n",
       "\n",
       "  PICKUP_DEADLINE_PST ORIGIN_3DIGIT_ZIP DESTINATION_3DIGIT_ZIP  \\\n",
       "0 2021-11-03 16:00:00               945                    601   \n",
       "\n",
       "   APPROXIMATE_DRIVING_ROUTE_MILEAGE  PALLETIZED_LINEAR_FEET ORIGIN_CITY  \\\n",
       "0                             2131.0                     4.0  Oakland CA   \n",
       "\n",
       "  DESTINATION_CITY   REMAINIG_TIME  BUSINESS_HOURS  PRORATED_RATE_USD  \\\n",
       "0       Chicago IL 0 days 07:05:47            True              795.5   \n",
       "\n",
       "   BUSINESS_HOURS_ORDER_PICKUP  OFF_BUSINESS_HOURS_ORDER_PICKUP  WEEKDAY_NUM  \n",
       "0                    13.053056                             14.0            2  "
      ]
     },
     "execution_count": 15,
     "metadata": {},
     "output_type": "execute_result"
    }
   ],
   "source": [
    "pooled.head(1)"
   ]
  }
 ],
 "metadata": {
  "kernelspec": {
   "display_name": "Python 3",
   "language": "python",
   "name": "python3"
  },
  "language_info": {
   "codemirror_mode": {
    "name": "ipython",
    "version": 3
   },
   "file_extension": ".py",
   "mimetype": "text/x-python",
   "name": "python",
   "nbconvert_exporter": "python",
   "pygments_lexer": "ipython3",
   "version": "3.8.8"
  },
  "vscode": {
   "interpreter": {
    "hash": "f2d4b9b3a536dc09851504e46ebaa7e677940c42d95070a99f7fba8fe7620061"
   }
  }
 },
 "nbformat": 4,
 "nbformat_minor": 2
}
