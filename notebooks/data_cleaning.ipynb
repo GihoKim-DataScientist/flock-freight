{
 "cells": [
  {
   "cell_type": "code",
   "execution_count": 22,
   "metadata": {},
   "outputs": [],
   "source": [
    "import pandas as pd\n",
    "import numpy as np\n",
    "\n",
    "import sys\n",
    "sys.path.insert(1, \"../src/features\")\n",
    "import data_cleaning\n",
    "\n",
    "# allows all columns to be displayed\n",
    "pd.set_option('display.max_columns', None)"
   ]
  },
  {
   "attachments": {},
   "cell_type": "markdown",
   "metadata": {},
   "source": [
    "# Data Cleaning"
   ]
  },
  {
   "cell_type": "markdown",
   "metadata": {},
   "source": [
    "### Reading Data"
   ]
  },
  {
   "cell_type": "markdown",
   "metadata": {},
   "source": [
    "Only keep relevant columns"
   ]
  },
  {
   "cell_type": "code",
   "execution_count": 23,
   "metadata": {},
   "outputs": [],
   "source": [
    "OFFER_DATA_DIR = \"../data/offer_acceptance_offers.csv\"\n",
    "ORDER_DATA_DIR = \"../data/offer_acceptance_orders.csv\"\n",
    "\n",
    "offers = pd.read_csv(OFFER_DATA_DIR, low_memory=False)\n",
    "orders = pd.read_csv(ORDER_DATA_DIR, low_memory=False)"
   ]
  },
  {
   "cell_type": "markdown",
   "metadata": {},
   "source": [
    "### Data Cleaning"
   ]
  },
  {
   "cell_type": "markdown",
   "metadata": {},
   "source": [
    "Convert date columns to DateTime objects"
   ]
  },
  {
   "cell_type": "code",
   "execution_count": 24,
   "metadata": {},
   "outputs": [],
   "source": [
    "offers = data_cleaning.change_to_date(offers, [\"CREATED_ON_HQ\"])\n",
    "orders = data_cleaning.change_to_date(orders, [\"ORDER_DATETIME_PST\", \"PICKUP_DEADLINE_PST\"])"
   ]
  },
  {
   "cell_type": "markdown",
   "metadata": {},
   "source": [
    "Extract nearest city and state name from zipcode"
   ]
  },
  {
   "cell_type": "code",
   "execution_count": 25,
   "metadata": {},
   "outputs": [],
   "source": [
    "# orders = data_cleaning.parse_zipcode(orders)"
   ]
  },
  {
   "cell_type": "markdown",
   "metadata": {},
   "source": [
    "Offers can have multiple REFERENCE_NUMBER values if the offer is being made to multiple orders (i.e., PTL, or the carrier offers to pick up multiple orders with one truck).  \n",
    "We need to flatten offers with multiple REFERENCE_NUMBER values."
   ]
  },
  {
   "cell_type": "code",
   "execution_count": 26,
   "metadata": {},
   "outputs": [],
   "source": [
    "offers = data_cleaning.flatten_ref_num(offers)\n",
    "orders = data_cleaning.flatten_ref_num(orders)"
   ]
  },
  {
   "cell_type": "markdown",
   "metadata": {},
   "source": [
    "Match each offer with respective order"
   ]
  },
  {
   "cell_type": "code",
   "execution_count": 27,
   "metadata": {},
   "outputs": [],
   "source": [
    "merged = data_cleaning.join_offers_orders(offers, orders)"
   ]
  },
  {
   "cell_type": "markdown",
   "metadata": {},
   "source": [
    "Drop the columns that have NA to avoid value error later"
   ]
  },
  {
   "cell_type": "code",
   "execution_count": 28,
   "metadata": {},
   "outputs": [],
   "source": [
    "merged = merged.dropna()"
   ]
  },
  {
   "attachments": {},
   "cell_type": "markdown",
   "metadata": {},
   "source": [
    "Sort table by offer dates"
   ]
  },
  {
   "cell_type": "code",
   "execution_count": 29,
   "metadata": {},
   "outputs": [],
   "source": [
    "merged = merged.sort_values(\"CREATED_ON_HQ\", ascending=True)"
   ]
  },
  {
   "cell_type": "markdown",
   "metadata": {},
   "source": [
    "Calculate whether offer was made during business hours"
   ]
  },
  {
   "cell_type": "code",
   "execution_count": 30,
   "metadata": {},
   "outputs": [],
   "source": [
    "# merged = data_cleaning.during_business_hours(merged, \"PICKUP_DEADLINE_PST\", \"DEADLINE_IS_BUSINESSHOUR\")\n",
    "# merged = data_cleaning.during_business_hours(merged, \"ORDER_DATETIME_PST\", \"ORDERTIME_IS_BUSINESSHOUR\")\n",
    "# merged = data_cleaning.during_business_hours(merged, \"CREATED_ON_HQ\", \"OFFERTIME_IS_BUSINESSHOUR\")"
   ]
  },
  {
   "attachments": {},
   "cell_type": "markdown",
   "metadata": {},
   "source": [
    "Check whether the pickup deadline is on a weekend/holiday."
   ]
  },
  {
   "cell_type": "code",
   "execution_count": 31,
   "metadata": {},
   "outputs": [],
   "source": [
    "merged = data_cleaning.is_weekend(merged, col=\"PICKUP_DEADLINE_PST\", new_col=\"DEADLINE_ON_WEEKDAY\")"
   ]
  },
  {
   "cell_type": "markdown",
   "metadata": {},
   "source": [
    "Calculate time remaining"
   ]
  },
  {
   "cell_type": "code",
   "execution_count": 32,
   "metadata": {},
   "outputs": [],
   "source": [
    "# time remaining from when an order was made to the deadline\n",
    "merged = data_cleaning.get_remaining_time(merged, past=\"ORDER_DATETIME_PST\", future=\"PICKUP_DEADLINE_PST\", new_col=\"GIVEN_HOURS\")\n",
    "\n",
    "# time remaining from when an offer was made to the deadline\n",
    "merged = data_cleaning.get_remaining_time(merged, past=\"CREATED_ON_HQ\", future=\"PICKUP_DEADLINE_PST\", new_col=\"REMAINING_HOURS\")"
   ]
  },
  {
   "attachments": {},
   "cell_type": "markdown",
   "metadata": {},
   "source": [
    "Count the number of business hours between order time and pickup time"
   ]
  },
  {
   "cell_type": "code",
   "execution_count": 33,
   "metadata": {},
   "outputs": [],
   "source": [
    "# merged = data_cleaning.get_business_hours(merged)"
   ]
  },
  {
   "cell_type": "markdown",
   "metadata": {},
   "source": [
    "Calculates prorated rate of pooled items"
   ]
  },
  {
   "cell_type": "code",
   "execution_count": 34,
   "metadata": {},
   "outputs": [],
   "source": [
    "merged = data_cleaning.get_prorated_rate(merged, overwrite=True)"
   ]
  },
  {
   "cell_type": "markdown",
   "metadata": {},
   "source": [
    "Get the weekday of PICKUP_DEADLINE_PST"
   ]
  },
  {
   "cell_type": "code",
   "execution_count": 35,
   "metadata": {},
   "outputs": [],
   "source": [
    "# merged = data_cleaning.get_weekday(merged)"
   ]
  },
  {
   "attachments": {},
   "cell_type": "markdown",
   "metadata": {},
   "source": [
    "Add coordinates to zipodes"
   ]
  },
  {
   "cell_type": "code",
   "execution_count": 36,
   "metadata": {},
   "outputs": [],
   "source": [
    "merged = data_cleaning.get_coordinates(merged, col=\"ORIGIN_3DIGIT_ZIP\", new_col=\"ORIGIN\")\n",
    "merged = data_cleaning.get_coordinates(merged, col=\"DESTINATION_3DIGIT_ZIP\", new_col=\"DESTINATION\")"
   ]
  },
  {
   "attachments": {},
   "cell_type": "markdown",
   "metadata": {},
   "source": [
    "Extract data from datetime"
   ]
  },
  {
   "cell_type": "code",
   "execution_count": 37,
   "metadata": {},
   "outputs": [],
   "source": [
    "merged = data_cleaning.extract_from_date(merged, col=\"ORDER_DATETIME_PST\", new_col=\"ORDER\")\n",
    "merged = data_cleaning.extract_from_date(merged, col=\"PICKUP_DEADLINE_PST\", new_col=\"DEADLINE\")\n",
    "merged = data_cleaning.extract_from_date(merged, col=\"CREATED_ON_HQ\", new_col=\"OFFER\")"
   ]
  },
  {
   "cell_type": "markdown",
   "metadata": {},
   "source": [
    "Assign shorter IDs to carriers and reference number"
   ]
  },
  {
   "cell_type": "code",
   "execution_count": 38,
   "metadata": {},
   "outputs": [],
   "source": [
    "merged = data_cleaning.assign_ids(merged, col=\"REFERENCE_NUMBER\")\n",
    "merged = data_cleaning.assign_ids(merged, \"CARRIER_ID\")"
   ]
  },
  {
   "attachments": {},
   "cell_type": "markdown",
   "metadata": {},
   "source": [
    "Change delivery type values to booleans"
   ]
  },
  {
   "cell_type": "code",
   "execution_count": 39,
   "metadata": {},
   "outputs": [],
   "source": [
    "merged = data_cleaning.change_to_boolean(merged, col=\"OFFER_TYPE\", new_col=\"OFFER_IS_FTL\", true_val=\"quote\")\n",
    "merged = data_cleaning.change_to_boolean(merged, col=\"TRANSPORT_MODE\", new_col=\"ESTIMATED_MODE_IS_FTL\", true_val=\"FTL\")"
   ]
  },
  {
   "attachments": {},
   "cell_type": "markdown",
   "metadata": {},
   "source": [
    "Change boolean values to ints"
   ]
  },
  {
   "cell_type": "code",
   "execution_count": 40,
   "metadata": {},
   "outputs": [],
   "source": [
    "merged = merged.replace({True: 1, False: 0})"
   ]
  },
  {
   "cell_type": "markdown",
   "metadata": {},
   "source": [
    "Drop unncessary columns"
   ]
  },
  {
   "cell_type": "code",
   "execution_count": 41,
   "metadata": {},
   "outputs": [],
   "source": [
    "to_drop = [\"SELF_SERVE\", \"AUTOMATICALLY_APPROVED\", \"MANUALLY_APPROVED\", \"WAS_EVER_UNCOVERED\", \"COVERING_OFFER\", \"RECOMMENDED_LOAD\", \"VALID\", \"DELIVERY_TIME_CONSTRAINT\"]\n",
    "merged = merged.drop(to_drop, axis=1)"
   ]
  },
  {
   "cell_type": "code",
   "execution_count": 42,
   "metadata": {},
   "outputs": [],
   "source": [
    "merged.to_pickle(\"../data/pickles/merged_clean2.pkl\")"
   ]
  },
  {
   "cell_type": "code",
   "execution_count": null,
   "metadata": {},
   "outputs": [],
   "source": []
  }
 ],
 "metadata": {
  "kernelspec": {
   "display_name": "Python 3",
   "language": "python",
   "name": "python3"
  },
  "language_info": {
   "codemirror_mode": {
    "name": "ipython",
    "version": 3
   },
   "file_extension": ".py",
   "mimetype": "text/x-python",
   "name": "python",
   "nbconvert_exporter": "python",
   "pygments_lexer": "ipython3",
   "version": "3.9.7"
  },
  "vscode": {
   "interpreter": {
    "hash": "f2d4b9b3a536dc09851504e46ebaa7e677940c42d95070a99f7fba8fe7620061"
   }
  }
 },
 "nbformat": 4,
 "nbformat_minor": 2
}
