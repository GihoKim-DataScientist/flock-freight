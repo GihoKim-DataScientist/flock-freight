{
 "cells": [
  {
   "cell_type": "code",
   "execution_count": 1,
   "metadata": {},
   "outputs": [],
   "source": [
    "import sys\n",
    "\n",
    "import pandas as pd\n",
    "import numpy as np\n",
    "\n",
    "sys.path.insert(1, \"../src/features\")\n",
    "\n",
    "import data_cleaning\n",
    "\n",
    "# allows all columns to be displayed\n",
    "pd.set_option('display.max_columns', None)"
   ]
  },
  {
   "cell_type": "markdown",
   "metadata": {},
   "source": [
    "### Reading Data"
   ]
  },
  {
   "cell_type": "markdown",
   "metadata": {},
   "source": [
    "Only keep relevant columns"
   ]
  },
  {
   "cell_type": "code",
   "execution_count": 2,
   "metadata": {},
   "outputs": [],
   "source": [
    "OFFER_DATA_DIR = \"../data/offer_acceptance_offers.csv\"\n",
    "ORDER_DATA_DIR = \"../data/offer_acceptance_orders.csv\"\n",
    "\n",
    "offers = pd.read_csv(OFFER_DATA_DIR, low_memory=False)[[\"CARRIER_ID\", \"REFERENCE_NUMBER\", \"CREATED_ON_HQ\", \"RATE_USD\", \"OFFER_TYPE\", \"LOAD_DELIVERED_FROM_OFFER\"]]\n",
    "orders = pd.read_csv(ORDER_DATA_DIR, low_memory=False)[[\"REFERENCE_NUMBER\", \"ORDER_DATETIME_PST\", \"PICKUP_DEADLINE_PST\", \"ORIGIN_3DIGIT_ZIP\", \"DESTINATION_3DIGIT_ZIP\", \"APPROXIMATE_DRIVING_ROUTE_MILEAGE\", \"PALLETIZED_LINEAR_FEET\"]]"
   ]
  },
  {
   "cell_type": "markdown",
   "metadata": {},
   "source": [
    "### Data Cleaning"
   ]
  },
  {
   "cell_type": "markdown",
   "metadata": {},
   "source": [
    "Convert date columns to DateTime objects"
   ]
  },
  {
   "cell_type": "code",
   "execution_count": 3,
   "metadata": {},
   "outputs": [],
   "source": [
    "offers = data_cleaning.change_to_date(offers, [\"CREATED_ON_HQ\"])\n",
    "orders = data_cleaning.change_to_date(orders, [\"ORDER_DATETIME_PST\", \"PICKUP_DEADLINE_PST\"])"
   ]
  },
  {
   "cell_type": "markdown",
   "metadata": {},
   "source": [
    "Extract nearest city and state name from zipcode"
   ]
  },
  {
   "cell_type": "code",
   "execution_count": 4,
   "metadata": {},
   "outputs": [],
   "source": [
    "orders = data_cleaning.parse_zipcode(orders)"
   ]
  },
  {
   "cell_type": "markdown",
   "metadata": {},
   "source": [
    "Offers can have multiple REFERENCE_NUMBER values if the offer is being made to multiple orders (i.e., PTL, or the carrier offers to pick up multiple orders with one truck).  \n",
    "We need to flatten offers with multiple REFERENCE_NUMBER values."
   ]
  },
  {
   "cell_type": "code",
   "execution_count": 5,
   "metadata": {},
   "outputs": [],
   "source": [
    "offers = data_cleaning.flatten_ref_num(offers)\n",
    "orders = data_cleaning.flatten_ref_num(orders)"
   ]
  },
  {
   "cell_type": "markdown",
   "metadata": {},
   "source": [
    "Match each offer with respective order"
   ]
  },
  {
   "cell_type": "code",
   "execution_count": 6,
   "metadata": {},
   "outputs": [],
   "source": [
    "merged = data_cleaning.join_offers_orders(offers, orders)"
   ]
  },
  {
   "cell_type": "markdown",
   "metadata": {},
   "source": [
    "Drop the columns that have NA to avoid value error later"
   ]
  },
  {
   "cell_type": "code",
   "execution_count": 7,
   "metadata": {},
   "outputs": [],
   "source": [
    "merged = merged.dropna()"
   ]
  },
  {
   "cell_type": "markdown",
   "metadata": {},
   "source": [
    "Calculate time remaining from when offer was made"
   ]
  },
  {
   "cell_type": "code",
   "execution_count": 8,
   "metadata": {},
   "outputs": [],
   "source": [
    "merged = data_cleaning.get_remaining_time(merged)"
   ]
  },
  {
   "cell_type": "markdown",
   "metadata": {},
   "source": [
    "Calculate whether offer was made during business hours"
   ]
  },
  {
   "cell_type": "code",
   "execution_count": 9,
   "metadata": {},
   "outputs": [],
   "source": [
    "merged = data_cleaning.during_business_hours(merged)"
   ]
  },
  {
   "cell_type": "markdown",
   "metadata": {},
   "source": [
    "Calculates prorated rate of pooled items"
   ]
  },
  {
   "cell_type": "code",
   "execution_count": 10,
   "metadata": {},
   "outputs": [],
   "source": [
    "pooled = data_cleaning.get_prorated_rate(merged)"
   ]
  },
  {
   "cell_type": "markdown",
   "metadata": {},
   "source": [
    "Count the number of hours between order time and pickup time that are in business hours"
   ]
  },
  {
   "cell_type": "code",
   "execution_count": null,
   "metadata": {},
   "outputs": [],
   "source": [
    "pooled = data_cleaning.get_business_hours(pooled)"
   ]
  },
  {
   "cell_type": "markdown",
   "metadata": {},
   "source": [
    "Count the number of hours between order time and pickup time that are in business hours"
   ]
  },
  {
   "cell_type": "code",
   "execution_count": null,
   "metadata": {},
   "outputs": [],
   "source": [
    "pooled = data_cleaning.get_off_business_hours(pooled)"
   ]
  },
  {
   "cell_type": "markdown",
   "metadata": {},
   "source": [
    "Get the weekday of PICKUP_DEADLINE_PST"
   ]
  },
  {
   "cell_type": "code",
   "execution_count": null,
   "metadata": {},
   "outputs": [],
   "source": [
    "pooled = data_cleaning.get_weekday(pooled)"
   ]
  },
  {
   "cell_type": "markdown",
   "metadata": {},
   "source": [
    "Note!!! \n",
    "\n",
    "I only applied the functions of get_business_hours, get_off_business_hours, and get_weekday in the pooled dataset to save runtime. It should be the same when\n",
    "you apply them to the unpooled dataset."
   ]
  },
  {
   "cell_type": "code",
   "execution_count": null,
   "metadata": {},
   "outputs": [],
   "source": [
    "merged.head(1)"
   ]
  },
  {
   "cell_type": "code",
   "execution_count": null,
   "metadata": {},
   "outputs": [],
   "source": [
    "pooled.head(1)"
   ]
  }
 ],
 "metadata": {
  "kernelspec": {
   "display_name": "Python 3",
   "language": "python",
   "name": "python3"
  },
  "language_info": {
   "codemirror_mode": {
    "name": "ipython",
    "version": 3
   },
   "file_extension": ".py",
   "mimetype": "text/x-python",
   "name": "python",
   "nbconvert_exporter": "python",
   "pygments_lexer": "ipython3",
   "version": "3.8.8"
  },
  "vscode": {
   "interpreter": {
    "hash": "f2d4b9b3a536dc09851504e46ebaa7e677940c42d95070a99f7fba8fe7620061"
   }
  }
 },
 "nbformat": 4,
 "nbformat_minor": 2
}
