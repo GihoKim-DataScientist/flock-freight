{
 "cells": [
  {
   "cell_type": "code",
   "execution_count": 1,
   "metadata": {},
   "outputs": [],
   "source": [
    "import pandas as pd \n",
    "import numpy as np\n",
    "from sklearn.model_selection import train_test_split\n",
    "\n",
    "import pandas as pd\n",
    "import numpy as np\n",
    "\n",
    "import sys\n",
    "sys.path.insert(1, \"../src/features\")\n",
    "import data_cleaning\n",
    "\n",
    "# allows all columns to be displayed\n",
    "pd.set_option('display.max_columns', None)"
   ]
  },
  {
   "cell_type": "markdown",
   "metadata": {},
   "source": [
    "### data cleaning"
   ]
  },
  {
   "cell_type": "code",
   "execution_count": 2,
   "metadata": {},
   "outputs": [],
   "source": [
    "OFFER_DATA_DIR = \"../data/offer_acceptance_offers.csv\"\n",
    "ORDER_DATA_DIR = \"../data/offer_acceptance_orders.csv\"\n",
    "\n",
    "offers = pd.read_csv(OFFER_DATA_DIR, low_memory=False)[[\"CARRIER_ID\", \"REFERENCE_NUMBER\", \"CREATED_ON_HQ\", \"RATE_USD\", \"OFFER_TYPE\", \"LOAD_DELIVERED_FROM_OFFER\"]]\n",
    "orders = pd.read_csv(ORDER_DATA_DIR, low_memory=False)[[\"REFERENCE_NUMBER\", \"ORDER_DATETIME_PST\", \"PICKUP_DEADLINE_PST\", \"ORIGIN_3DIGIT_ZIP\", \"DESTINATION_3DIGIT_ZIP\", \"APPROXIMATE_DRIVING_ROUTE_MILEAGE\", \"PALLETIZED_LINEAR_FEET\"]]\n",
    "\n",
    "offers = data_cleaning.change_to_date(offers, [\"CREATED_ON_HQ\"])\n",
    "orders = data_cleaning.change_to_date(orders, [\"ORDER_DATETIME_PST\", \"PICKUP_DEADLINE_PST\"])\n",
    "\n",
    "orders = data_cleaning.parse_zipcode(orders)\n",
    "\n",
    "orders = data_cleaning.parse_datetime(orders)\n",
    "\n",
    "offers = data_cleaning.flatten_ref_num(offers)\n",
    "orders = data_cleaning.flatten_ref_num(orders)\n",
    "\n",
    "merged = data_cleaning.join_offers_orders(offers, orders, how=\"inner\")\n",
    "\n",
    "merged = data_cleaning.get_remaining_time(merged)\n",
    "\n",
    "merged = data_cleaning.during_business_hours(merged)\n",
    "\n",
    "pooled = data_cleaning.get_prorated_rate(merged)\n",
    "\n",
    "merged = data_cleaning.impute_mileage(merged)\n",
    "\n",
    "merged = data_cleaning.get_business_hours(merged)"
   ]
  },
  {
   "cell_type": "code",
   "execution_count": 4,
   "metadata": {},
   "outputs": [],
   "source": [
    "# merged.to_pickle(\"../data/pickels/merged.pkl\")\n",
    "# pooled.to_pickle(\"../data/pickels/pooled.pkl\")\n",
    "# orders.to_pickle(\"../data/pickels/orders.pkl\")\n",
    "# offers.to_pickle(\"../data/pickels/offers.pkl\")\n",
    "\n",
    "merged = pd.read_pickle(\"../data/pickels/merged.pkl\") \n",
    "pooled = pd.read_pickle(\"../data/pickels/pooled.pkl\") \n",
    "orders = pd.read_pickle(\"../data/pickels/orders.pkl\") \n",
    "offers = pd.read_pickle(\"../data/pickels/offers.pkl\") "
   ]
  },
  {
   "cell_type": "code",
   "execution_count": 5,
   "metadata": {},
   "outputs": [
    {
     "data": {
      "text/plain": [
       "Index(['CARRIER_ID', 'REFERENCE_NUMBER', 'CREATED_ON_HQ', 'RATE_USD',\n",
       "       'OFFER_TYPE', 'LOAD_DELIVERED_FROM_OFFER', 'ORDER_DATETIME_PST',\n",
       "       'PICKUP_DEADLINE_PST', 'ORIGIN_3DIGIT_ZIP', 'DESTINATION_3DIGIT_ZIP',\n",
       "       'APPROXIMATE_DRIVING_ROUTE_MILEAGE', 'PALLETIZED_LINEAR_FEET',\n",
       "       'ORIGIN_CITY', 'DESTINATION_CITY', 'ORDER_DAY', 'ORDER_MONTH',\n",
       "       'ORDER_HOUR', 'PICKUP_DAY', 'PICKUP_MONTH', 'PICKUP_HOUR',\n",
       "       'REMAINIG_TIME', 'BUSINESS_HOURS', 'BUSINESS_HOURS_ORDER_PICKUP'],\n",
       "      dtype='object')"
      ]
     },
     "execution_count": 5,
     "metadata": {},
     "output_type": "execute_result"
    }
   ],
   "source": [
    "merged.columns"
   ]
  },
  {
   "cell_type": "code",
   "execution_count": 6,
   "metadata": {},
   "outputs": [],
   "source": [
    "import pandas as pd\n",
    "from sklearn.compose import ColumnTransformer\n",
    "from sklearn.preprocessing import OneHotEncoder\n",
    "from sklearn.preprocessing import MaxAbsScaler\n",
    "from sklearn.pipeline import Pipeline\n",
    "from sklearn.linear_model import Ridge, Lasso\n",
    "from sklearn.model_selection import GridSearchCV\n",
    "from sklearn.model_selection import train_test_split"
   ]
  },
  {
   "cell_type": "code",
   "execution_count": 7,
   "metadata": {},
   "outputs": [],
   "source": [
    "df_full = merged\n",
    "max_categories=30\n",
    "\n",
    "# check df_full is a DataFrame\n",
    "if not isinstance(df_full, pd.DataFrame): AssertionError(\"Parameter must be Pandas DataFrame\")\n",
    "\n",
    "# checks if dataframe has required columns\n",
    "req_cols = ['RATE_USD', 'APPROXIMATE_DRIVING_ROUTE_MILEAGE', 'PALLETIZED_LINEAR_FEET',\n",
    "      'ORIGIN_CITY', 'DESTINATION_CITY', 'ORDER_DAY', 'ORDER_MONTH',\n",
    "      'ORDER_HOUR', 'PICKUP_DAY', 'PICKUP_MONTH', 'PICKUP_HOUR',\n",
    "      'REMAINIG_TIME', 'BUSINESS_HOURS', 'BUSINESS_HOURS_ORDER_PICKUP', \"OFFER_TYPE\", \"LOAD_DELIVERED_FROM_OFFER\"]\n",
    "\n",
    "if not set(req_cols).issubset(set(df_full.columns)): AssertionError(\"DataFrame does not contain required columns\")\n",
    "\n",
    "# filter for delivered offers\n",
    "df_full = df_full[df_full[\"LOAD_DELIVERED_FROM_OFFER\"]].reset_index(drop=True)\n",
    "\n",
    "# select required columns only \n",
    "df_full = df_full[req_cols]\n",
    "\n",
    "# only quote\n",
    "df_full = df_full[df_full[\"OFFER_TYPE\"] == \"quote\"].reset_index(drop=True)\n",
    "df_full = df_full.drop([\"OFFER_TYPE\"], axis=1)\n",
    "\n",
    "# split features and labels\n",
    "df_X = df_full.drop([\"RATE_USD\"], axis=1)\n",
    "df_y = df_full[\"RATE_USD\"]\n",
    "\n",
    "# split train test\n",
    "df_X_train, df_X_test, df_y_train, df_y_test = train_test_split(df_X, df_y, test_size=0.3, random_state=42)"
   ]
  },
  {
   "cell_type": "code",
   "execution_count": 8,
   "metadata": {},
   "outputs": [],
   "source": [
    "# create numerical value transformer\n",
    "num_feat = [\"APPROXIMATE_DRIVING_ROUTE_MILEAGE\", \"PALLETIZED_LINEAR_FEET\", \"REMAINIG_TIME\", 'BUSINESS_HOURS_ORDER_PICKUP']\n",
    "num_transformer = Pipeline(steps=[\n",
    "    ('scaler', MaxAbsScaler())\n",
    "])\n",
    "\n",
    "cat_feat = ['ORIGIN_CITY', 'DESTINATION_CITY', 'BUSINESS_HOURS', 'ORDER_DAY', 'ORDER_MONTH', 'ORDER_HOUR', 'PICKUP_DAY', 'PICKUP_MONTH', 'PICKUP_HOUR']\n",
    "cat_transformer = Pipeline(steps=[\n",
    "    ('onehot', OneHotEncoder(max_categories = max_categories, handle_unknown = 'ignore'))     # output from Ordinal becomes input to OneHot\n",
    "])\n",
    "\n",
    "# combine numerical and categorical transformers\n",
    "preproc = ColumnTransformer(\n",
    "  transformers=[\n",
    "      (\"numerical\", num_transformer, num_feat),\n",
    "      (\"categorization\", cat_transformer, cat_feat)\n",
    "  ])"
   ]
  },
  {
   "cell_type": "markdown",
   "metadata": {},
   "source": [
    "### Grid search to find the best type of model and best parameter"
   ]
  },
  {
   "cell_type": "code",
   "execution_count": 9,
   "metadata": {},
   "outputs": [],
   "source": [
    "from sklearn.metrics import mean_squared_error"
   ]
  },
  {
   "cell_type": "code",
   "execution_count": 10,
   "metadata": {},
   "outputs": [
    {
     "name": "stdout",
     "output_type": "stream",
     "text": [
      "MSE of Ridge_0.001000 is 1259154.8791528998\n",
      "-------------------------\n",
      "MSE of Ridge_0.010000 is 1259153.3268063997\n",
      "-------------------------\n",
      "MSE of Ridge_0.100000 is 1259137.5028663229\n",
      "-------------------------\n",
      "MSE of Ridge_1.000000 is 1258982.4854549037\n",
      "-------------------------\n",
      "MSE of Ridge_10.000000 is 1257857.4503400302\n",
      "-------------------------\n",
      "MSE of Ridge_20.000000 is 1257379.6250992888\n",
      "-------------------------\n",
      "MSE of Ridge_30.000000 is 1257180.91192431\n",
      "-------------------------\n",
      "MSE of Ridge_40.000000 is 1257228.1366947063\n",
      "-------------------------\n"
     ]
    },
    {
     "name": "stderr",
     "output_type": "stream",
     "text": [
      "c:\\anaconda3\\lib\\site-packages\\sklearn\\linear_model\\_coordinate_descent.py:609: ConvergenceWarning: Objective did not converge. You might want to increase the number of iterations. Duality gap: 10328520781.240921, tolerance: 43383608.76933179\n",
      "  model = cd_fast.sparse_enet_coordinate_descent(\n"
     ]
    },
    {
     "name": "stdout",
     "output_type": "stream",
     "text": [
      "MSE of Lasso_0.001000 is 1258846.7434316224\n",
      "-------------------------\n"
     ]
    },
    {
     "name": "stderr",
     "output_type": "stream",
     "text": [
      "c:\\anaconda3\\lib\\site-packages\\sklearn\\linear_model\\_coordinate_descent.py:609: ConvergenceWarning: Objective did not converge. You might want to increase the number of iterations. Duality gap: 2659764111.95018, tolerance: 43383608.76933179\n",
      "  model = cd_fast.sparse_enet_coordinate_descent(\n"
     ]
    },
    {
     "name": "stdout",
     "output_type": "stream",
     "text": [
      "MSE of Lasso_0.010000 is 1258842.9863877585\n",
      "-------------------------\n",
      "MSE of Lasso_0.100000 is 1258554.3791530626\n",
      "-------------------------\n",
      "MSE of Lasso_1.000000 is 1264086.2147975056\n",
      "-------------------------\n",
      "MSE of Lasso_10.000000 is 1406826.8964651367\n",
      "-------------------------\n"
     ]
    }
   ],
   "source": [
    "Ridge_MSE = []\n",
    "\n",
    "for parameter in [0.001,0.01,0.1,1,10,20,30,40]:\n",
    "\n",
    "  pl = Pipeline(steps=[('preprocessor', preproc), (\"regressor\", Ridge(alpha = parameter))])\n",
    "\n",
    "  pl.fit(df_X_train, df_y_train)\n",
    "  y_preds = pl.predict(df_X_test)\n",
    "\n",
    "  mse = mean_squared_error(df_y_test, y_preds)\n",
    "  Ridge_MSE.append(mse)\n",
    "  print(\"MSE of %s%f is %s\"%(\"Ridge_\", parameter, mse))\n",
    "  print(\"-------------------------\")\n",
    "  \n",
    "Lasso_MSE = []\n",
    "\n",
    "for parameter in [0.001,0.01,0.1,1,10]:\n",
    "\n",
    "  pl = Pipeline(steps=[('preprocessor', preproc), (\"regressor\", Lasso(alpha = parameter))])\n",
    "\n",
    "  pl.fit(df_X_train, df_y_train)\n",
    "  y_preds = pl.predict(df_X_test)\n",
    "\n",
    "  mse = mean_squared_error(df_y_test, y_preds)\n",
    "  Lasso_MSE.append(mse)\n",
    "  print(\"MSE of %s%f is %s\"%(\"Lasso_\", parameter, mse))\n",
    "  print(\"-------------------------\")"
   ]
  },
  {
   "cell_type": "code",
   "execution_count": 11,
   "metadata": {},
   "outputs": [
    {
     "name": "stdout",
     "output_type": "stream",
     "text": [
      "MSE of Ridge is 1257143.2762379143\n"
     ]
    }
   ],
   "source": [
    "pl = Pipeline(steps=[('preprocessor', preproc), ('regressor', Ridge(alpha = 1))])\n",
    "\n",
    "parameters = {\n",
    "    \"regressor__alpha\":np.arange(34, 36, 0.1)\n",
    "}\n",
    "\n",
    "# initialize\n",
    "grid_pipeline = GridSearchCV(pl,parameters, cv = 8)\n",
    "\n",
    "grid_pipeline.fit(df_X_train,df_y_train)\n",
    "\n",
    "pl = Pipeline(steps=[('preprocessor', preproc), ('regressor', Ridge(alpha = grid_pipeline.best_params_['regressor__alpha']))])\n",
    "\n",
    "# train model\n",
    "pl.fit(df_X_train, df_y_train)\n",
    "\n",
    "_preds = pl.predict(df_X_test)\n",
    "\n",
    "mse = mean_squared_error(df_y_test, _preds)\n",
    "print(\"MSE of %s is %s\"%(\"Ridge\", mse))"
   ]
  },
  {
   "cell_type": "code",
   "execution_count": 12,
   "metadata": {},
   "outputs": [
    {
     "data": {
      "text/plain": [
       "{'regressor__alpha': 34.0}"
      ]
     },
     "execution_count": 12,
     "metadata": {},
     "output_type": "execute_result"
    }
   ],
   "source": [
    "grid_pipeline.best_params_"
   ]
  },
  {
   "cell_type": "code",
   "execution_count": 13,
   "metadata": {},
   "outputs": [
    {
     "name": "stdout",
     "output_type": "stream",
     "text": [
      "MSE of Lasso is 1258450.652228233\n"
     ]
    }
   ],
   "source": [
    "pl = Pipeline(steps=[('preprocessor', preproc), ('regressor', Lasso(alpha = 1))])\n",
    "\n",
    "parameters = {\n",
    "    \"regressor__alpha\":np.arange(0.2, 0.3, 0.01)\n",
    "}\n",
    "\n",
    "# initialize\n",
    "grid_pipeline = GridSearchCV(pl,parameters, cv = 8)\n",
    "\n",
    "grid_pipeline.fit(df_X_train,df_y_train)\n",
    "\n",
    "pl = Pipeline(steps=[('preprocessor', preproc), ('regressor', Lasso(alpha = grid_pipeline.best_params_['regressor__alpha']))])\n",
    "\n",
    "# train model\n",
    "pl.fit(df_X_train, df_y_train)\n",
    "\n",
    "_preds = pl.predict(df_X_test)\n",
    "\n",
    "mse = mean_squared_error(df_y_test, _preds)\n",
    "print(\"MSE of %s is %s\"%(\"Lasso\", mse))"
   ]
  },
  {
   "cell_type": "code",
   "execution_count": 16,
   "metadata": {},
   "outputs": [
    {
     "data": {
      "text/plain": [
       "{'regressor__alpha': 0.2}"
      ]
     },
     "execution_count": 16,
     "metadata": {},
     "output_type": "execute_result"
    }
   ],
   "source": [
    "grid_pipeline.best_params_"
   ]
  },
  {
   "cell_type": "markdown",
   "metadata": {},
   "source": [
    "Ridge with alpha 34 is better than Lasso with alpha 0.2 so we are going to use Ridge"
   ]
  },
  {
   "cell_type": "code",
   "execution_count": 17,
   "metadata": {},
   "outputs": [
    {
     "name": "stdout",
     "output_type": "stream",
     "text": [
      "MSE of Ridge is 1257143.2762379143\n"
     ]
    }
   ],
   "source": [
    "sys.path.insert(1, \"../src/models\")\n",
    "import quote_regression_model\n",
    "\n",
    "pl, (df_X_test, df_y_test) = quote_regression_model.generate_quote_regression_pipeline(merged)\n",
    "\n",
    "_preds = pl.predict(df_X_test)\n",
    "\n",
    "mse = mean_squared_error(df_y_test, _preds)\n",
    "print(\"MSE of %s is %s\"%(\"Ridge\", mse))"
   ]
  },
  {
   "cell_type": "code",
   "execution_count": null,
   "metadata": {},
   "outputs": [],
   "source": []
  }
 ],
 "metadata": {
  "kernelspec": {
   "display_name": "Python 3.8.5 ('base')",
   "language": "python",
   "name": "python3"
  },
  "language_info": {
   "codemirror_mode": {
    "name": "ipython",
    "version": 3
   },
   "file_extension": ".py",
   "mimetype": "text/x-python",
   "name": "python",
   "nbconvert_exporter": "python",
   "pygments_lexer": "ipython3",
   "version": "3.8.5"
  },
  "orig_nbformat": 4,
  "vscode": {
   "interpreter": {
    "hash": "ff4f85d6e04298634172ac5d8264e7e9b556b95639fe52ebb9425c4d4cba0c9c"
   }
  }
 },
 "nbformat": 4,
 "nbformat_minor": 2
}
