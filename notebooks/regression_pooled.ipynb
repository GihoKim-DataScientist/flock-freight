{
 "cells": [
  {
   "cell_type": "code",
   "execution_count": 1,
   "id": "74b555ab",
   "metadata": {},
   "outputs": [],
   "source": [
    "import sys\n",
    "\n",
    "import pandas as pd\n",
    "import numpy as np\n",
    "\n",
    "sys.path.insert(1, \"../src/features\")\n",
    "\n",
    "import data_cleaning\n",
    "\n",
    "# allows all columns to be displayed\n",
    "pd.set_option('display.max_columns', None)"
   ]
  },
  {
   "cell_type": "code",
   "execution_count": 2,
   "id": "9704e8e3",
   "metadata": {},
   "outputs": [],
   "source": [
    "OFFER_DATA_DIR = \"../data/offer_acceptance_offers.csv\"\n",
    "ORDER_DATA_DIR = \"../data/offer_acceptance_orders.csv\""
   ]
  },
  {
   "cell_type": "markdown",
   "id": "b186223c",
   "metadata": {},
   "source": [
    "### Data Cleaning"
   ]
  },
  {
   "cell_type": "code",
   "execution_count": 3,
   "id": "867359d1",
   "metadata": {},
   "outputs": [],
   "source": [
    "offers = pd.read_csv(OFFER_DATA_DIR, low_memory=False)[[\"CARRIER_ID\", \"REFERENCE_NUMBER\", \"CREATED_ON_HQ\", \"RATE_USD\", \"OFFER_TYPE\", \"LOAD_DELIVERED_FROM_OFFER\"]]\n",
    "orders = pd.read_csv(ORDER_DATA_DIR, low_memory=False)[[\"REFERENCE_NUMBER\", \"ORDER_DATETIME_PST\", \"PICKUP_DEADLINE_PST\", \"ORIGIN_3DIGIT_ZIP\", \"DESTINATION_3DIGIT_ZIP\", \"APPROXIMATE_DRIVING_ROUTE_MILEAGE\", \"PALLETIZED_LINEAR_FEET\"]]\n",
    "\n",
    "offers = data_cleaning.change_to_date(offers, [\"CREATED_ON_HQ\"])\n",
    "orders = data_cleaning.change_to_date(orders, [\"ORDER_DATETIME_PST\", \"PICKUP_DEADLINE_PST\"])"
   ]
  },
  {
   "cell_type": "code",
   "execution_count": 4,
   "id": "4ec901d6",
   "metadata": {},
   "outputs": [],
   "source": [
    "orders = data_cleaning.parse_zipcode(orders)\n",
    "\n",
    "orders = data_cleaning.parse_datetime(orders)\n",
    "\n",
    "offers = data_cleaning.flatten_ref_num(offers)\n",
    "orders = data_cleaning.flatten_ref_num(orders)\n",
    "\n",
    "merged = data_cleaning.join_offers_orders(offers, orders, how=\"inner\")\n",
    "\n",
    "merged = data_cleaning.get_remaining_time(merged)\n",
    "\n",
    "merged = data_cleaning.during_business_hours(merged)\n",
    "\n",
    "merged = data_cleaning.impute_mileage(merged)\n",
    "\n",
    "merged = data_cleaning.get_business_hours(merged)\n",
    "\n",
    "pooled = data_cleaning.get_prorated_rate(merged)"
   ]
  },
  {
   "cell_type": "code",
   "execution_count": 5,
   "id": "8332dcd1",
   "metadata": {},
   "outputs": [],
   "source": [
    "# Filter offers that were actually be delivered\n",
    "pooled = pooled[pooled[\"LOAD_DELIVERED_FROM_OFFER\"] == True]"
   ]
  },
  {
   "cell_type": "code",
   "execution_count": 6,
   "id": "2376b760",
   "metadata": {},
   "outputs": [
    {
     "data": {
      "text/html": [
       "<div>\n",
       "<style scoped>\n",
       "    .dataframe tbody tr th:only-of-type {\n",
       "        vertical-align: middle;\n",
       "    }\n",
       "\n",
       "    .dataframe tbody tr th {\n",
       "        vertical-align: top;\n",
       "    }\n",
       "\n",
       "    .dataframe thead th {\n",
       "        text-align: right;\n",
       "    }\n",
       "</style>\n",
       "<table border=\"1\" class=\"dataframe\">\n",
       "  <thead>\n",
       "    <tr style=\"text-align: right;\">\n",
       "      <th></th>\n",
       "      <th>CARRIER_ID</th>\n",
       "      <th>REFERENCE_NUMBER</th>\n",
       "      <th>CREATED_ON_HQ</th>\n",
       "      <th>RATE_USD</th>\n",
       "      <th>LOAD_DELIVERED_FROM_OFFER</th>\n",
       "      <th>ORDER_DATETIME_PST</th>\n",
       "      <th>PICKUP_DEADLINE_PST</th>\n",
       "      <th>ORIGIN_3DIGIT_ZIP</th>\n",
       "      <th>DESTINATION_3DIGIT_ZIP</th>\n",
       "      <th>APPROXIMATE_DRIVING_ROUTE_MILEAGE</th>\n",
       "      <th>PALLETIZED_LINEAR_FEET</th>\n",
       "      <th>ORIGIN_CITY</th>\n",
       "      <th>DESTINATION_CITY</th>\n",
       "      <th>ORDER_DAY</th>\n",
       "      <th>ORDER_MONTH</th>\n",
       "      <th>ORDER_HOUR</th>\n",
       "      <th>PICKUP_DAY</th>\n",
       "      <th>PICKUP_MONTH</th>\n",
       "      <th>PICKUP_HOUR</th>\n",
       "      <th>REMAINIG_TIME</th>\n",
       "      <th>BUSINESS_HOURS</th>\n",
       "      <th>BUSINESS_HOURS_ORDER_PICKUP</th>\n",
       "      <th>PRORATED_RATE_USD</th>\n",
       "    </tr>\n",
       "  </thead>\n",
       "  <tbody>\n",
       "    <tr>\n",
       "      <th>1</th>\n",
       "      <td>0629d63476c157a6cfe234f7a34422eb0ad94998c2d082...</td>\n",
       "      <td>ce3548db155049cc1ccce2da041cec607942e4f779fc2d...</td>\n",
       "      <td>2021-11-03 08:57:27</td>\n",
       "      <td>9159.0</td>\n",
       "      <td>True</td>\n",
       "      <td>2021-11-02 12:56:49</td>\n",
       "      <td>2021-11-03 16:00:00</td>\n",
       "      <td>945</td>\n",
       "      <td>601</td>\n",
       "      <td>2131.0</td>\n",
       "      <td>4.0</td>\n",
       "      <td>Oakland CA</td>\n",
       "      <td>Chicago IL</td>\n",
       "      <td>1</td>\n",
       "      <td>11</td>\n",
       "      <td>12</td>\n",
       "      <td>2</td>\n",
       "      <td>11</td>\n",
       "      <td>16</td>\n",
       "      <td>25353.0</td>\n",
       "      <td>True</td>\n",
       "      <td>13.053056</td>\n",
       "      <td>763.25</td>\n",
       "    </tr>\n",
       "  </tbody>\n",
       "</table>\n",
       "</div>"
      ],
      "text/plain": [
       "                                          CARRIER_ID  \\\n",
       "1  0629d63476c157a6cfe234f7a34422eb0ad94998c2d082...   \n",
       "\n",
       "                                    REFERENCE_NUMBER       CREATED_ON_HQ  \\\n",
       "1  ce3548db155049cc1ccce2da041cec607942e4f779fc2d... 2021-11-03 08:57:27   \n",
       "\n",
       "   RATE_USD  LOAD_DELIVERED_FROM_OFFER  ORDER_DATETIME_PST  \\\n",
       "1    9159.0                       True 2021-11-02 12:56:49   \n",
       "\n",
       "  PICKUP_DEADLINE_PST ORIGIN_3DIGIT_ZIP DESTINATION_3DIGIT_ZIP  \\\n",
       "1 2021-11-03 16:00:00               945                    601   \n",
       "\n",
       "   APPROXIMATE_DRIVING_ROUTE_MILEAGE  PALLETIZED_LINEAR_FEET ORIGIN_CITY  \\\n",
       "1                             2131.0                     4.0  Oakland CA   \n",
       "\n",
       "  DESTINATION_CITY  ORDER_DAY  ORDER_MONTH  ORDER_HOUR  PICKUP_DAY  \\\n",
       "1       Chicago IL          1           11          12           2   \n",
       "\n",
       "   PICKUP_MONTH  PICKUP_HOUR  REMAINIG_TIME  BUSINESS_HOURS  \\\n",
       "1            11           16        25353.0            True   \n",
       "\n",
       "   BUSINESS_HOURS_ORDER_PICKUP  PRORATED_RATE_USD  \n",
       "1                    13.053056             763.25  "
      ]
     },
     "execution_count": 6,
     "metadata": {},
     "output_type": "execute_result"
    }
   ],
   "source": [
    "pooled.head(1)"
   ]
  },
  {
   "cell_type": "markdown",
   "id": "e3c72df9",
   "metadata": {},
   "source": [
    "### Regression Model for Pooled Offers (OFFER_TYPE == pool)"
   ]
  },
  {
   "cell_type": "code",
   "execution_count": 7,
   "id": "8bf84155",
   "metadata": {},
   "outputs": [],
   "source": [
    "import sklearn.preprocessing as pp\n",
    "from sklearn.model_selection import train_test_split\n",
    "from sklearn.model_selection import GridSearchCV\n",
    "from sklearn.metrics import mean_squared_error\n",
    "from sklearn.compose import ColumnTransformer\n",
    "from sklearn.pipeline import Pipeline\n",
    "from sklearn.linear_model import BayesianRidge\n",
    "from sklearn.linear_model import Lasso\n",
    "from sklearn.linear_model import Ridge\n",
    "from sklearn.linear_model import LogisticRegression"
   ]
  },
  {
   "cell_type": "code",
   "execution_count": 8,
   "id": "badbaee9",
   "metadata": {},
   "outputs": [],
   "source": [
    "X = pooled[[\"APPROXIMATE_DRIVING_ROUTE_MILEAGE\", \"PALLETIZED_LINEAR_FEET\", \n",
    "            \"BUSINESS_HOURS\", \"REMAINIG_TIME\",\n",
    "            \"ORDER_DAY\", \"ORDER_MONTH\", \"ORDER_HOUR\",\n",
    "            \"PICKUP_DAY\", \"PICKUP_MONTH\", \"PICKUP_HOUR\",\n",
    "            \"BUSINESS_HOURS_ORDER_PICKUP\",\n",
    "            \"ORIGIN_CITY\", \"DESTINATION_CITY\"]]\n",
    "\n",
    "y = pooled[\"PRORATED_RATE_USD\"].to_list()\n",
    "\n",
    "X_train, X_test, y_train, y_test = train_test_split(X, y, test_size=0.3, random_state=42)"
   ]
  },
  {
   "cell_type": "code",
   "execution_count": 9,
   "id": "e9e01dd8",
   "metadata": {
    "scrolled": true
   },
   "outputs": [],
   "source": [
    "# Numerical columns and associated transformers\n",
    "num_feat = [\"APPROXIMATE_DRIVING_ROUTE_MILEAGE\", \"PALLETIZED_LINEAR_FEET\",\n",
    "            \"BUSINESS_HOURS_ORDER_PICKUP\", \"REMAINIG_TIME\"]\n",
    "num_transformer = Pipeline(steps=[\n",
    "    ('scaler', pp.MaxAbsScaler())\n",
    "])\n",
    "\n",
    "# Categorical columns and associated transformers\n",
    "cat_feat = [\"ORIGIN_CITY\", \"DESTINATION_CITY\", \"BUSINESS_HOURS\",\n",
    "            \"ORDER_DAY\", \"ORDER_MONTH\", \"ORDER_HOUR\",\n",
    "            \"PICKUP_DAY\", \"PICKUP_MONTH\", \"PICKUP_HOUR\"]\n",
    "cat_transformer = Pipeline(steps=[('onehot', pp.OneHotEncoder(max_categories = 30, handle_unknown = 'ignore'))\n",
    "])\n",
    "\n",
    "# Preprocessing pipeline (put them together)\n",
    "preproc = ColumnTransformer(\n",
    "    transformers=[\n",
    "        ('num', num_transformer, num_feat),\n",
    "        ('cat', cat_transformer, cat_feat)\n",
    "    ])"
   ]
  },
  {
   "cell_type": "code",
   "execution_count": 10,
   "id": "10ccf88d",
   "metadata": {},
   "outputs": [
    {
     "data": {
      "text/plain": [
       "1172279.9069743403"
      ]
     },
     "execution_count": 10,
     "metadata": {},
     "output_type": "execute_result"
    }
   ],
   "source": [
    "pl_ridge = Pipeline(steps=[(\"preprocessor\", preproc), (\"regressor\", Ridge())])\n",
    "\n",
    "pl_ridge.fit(X_train, y_train)\n",
    "\n",
    "pred_train = pl_ridge.predict(X_train)\n",
    "mse_train = mean_squared_error(y_train, pred_train)\n",
    "\n",
    "# Performance on test data\n",
    "pred_test = pl_ridge.predict(X_test)\n",
    "mean_squared_error(y_test, pred_test)"
   ]
  },
  {
   "cell_type": "code",
   "execution_count": 11,
   "id": "aac9aa14",
   "metadata": {},
   "outputs": [
    {
     "data": {
      "text/plain": [
       "1176828.6487140632"
      ]
     },
     "execution_count": 11,
     "metadata": {},
     "output_type": "execute_result"
    }
   ],
   "source": [
    "pl_lasso = Pipeline(steps=[(\"preprocessor\", preproc), (\"regressor\", Lasso())])\n",
    "\n",
    "pl_lasso.fit(X_train, y_train)\n",
    "\n",
    "pred_train = pl_lasso.predict(X_train)\n",
    "mse_train = mean_squared_error(y_train, pred_train)\n",
    "\n",
    "# Performance on test data\n",
    "pred_test = pl_lasso.predict(X_test)\n",
    "mean_squared_error(y_test, pred_test)"
   ]
  },
  {
   "cell_type": "code",
   "execution_count": 12,
   "id": "ec5bd7bd",
   "metadata": {},
   "outputs": [],
   "source": [
    "# params = {\"regressor__alpha\": np.arange(0.01, 50, 0.01)}\n",
    "# ridge = GridSearchCV(estimator=pl_ridge, param_grid=params, \n",
    "#                      scoring=\"neg_mean_squared_error\", \n",
    "#                      cv=5, n_jobs=-1)\n",
    "\n",
    "# grid_search = ridge.fit(X_train, y_train)\n",
    "\n",
    "# # best estimator\n",
    "# print(\"Best alpha is {}\".format(grid_search.best_params_))\n",
    "# print(\"Best score is {}\".format(grid_search.best_score_))"
   ]
  },
  {
   "cell_type": "code",
   "execution_count": 13,
   "id": "a448dc58",
   "metadata": {},
   "outputs": [],
   "source": [
    "# params = {\"regressor__alpha\": np.arange(0.01, 50, 0.01)}\n",
    "# lasso = GridSearchCV(estimator=pl_lasso, param_grid=params, \n",
    "#                      scoring=\"neg_mean_squared_error\", \n",
    "#                      cv=5, n_jobs=-1)\n",
    "\n",
    "# grid_search = lasso.fit(X_train, y_train)\n",
    "\n",
    "# # best estimator\n",
    "# print(\"Best alpha is {}\".format(grid_search.best_params_))\n",
    "# print(\"Best score is {}\".format(grid_search.best_score_))"
   ]
  },
  {
   "cell_type": "code",
   "execution_count": 14,
   "id": "9d8f93e9",
   "metadata": {},
   "outputs": [
    {
     "data": {
      "text/plain": [
       "1171811.8520371814"
      ]
     },
     "execution_count": 14,
     "metadata": {},
     "output_type": "execute_result"
    }
   ],
   "source": [
    "pl_ridge = Pipeline(steps=[(\"preprocessor\", preproc), (\"regressor\", Ridge(2.88))])\n",
    "\n",
    "pl_ridge.fit(X_train, y_train)\n",
    "\n",
    "pred_train = pl_ridge.predict(X_train)\n",
    "mse_train = mean_squared_error(y_train, pred_train)\n",
    "\n",
    "# Performance on test data\n",
    "pred_test = pl_ridge.predict(X_test)\n",
    "mean_squared_error(y_test, pred_test)"
   ]
  },
  {
   "cell_type": "code",
   "execution_count": 15,
   "id": "95bd7c1f",
   "metadata": {},
   "outputs": [
    {
     "data": {
      "text/plain": [
       "1171483.6213386317"
      ]
     },
     "execution_count": 15,
     "metadata": {},
     "output_type": "execute_result"
    }
   ],
   "source": [
    "pl_lasso = Pipeline(steps=[(\"preprocessor\", preproc), (\"regressor\", Lasso(0.21))])\n",
    "\n",
    "pl_lasso.fit(X_train, y_train)\n",
    "\n",
    "pred_train = pl_lasso.predict(X_train)\n",
    "mse_train = mean_squared_error(y_train, pred_train)\n",
    "\n",
    "# Performance on test data\n",
    "pred_test = pl_lasso.predict(X_test)\n",
    "mean_squared_error(y_test, pred_test)"
   ]
  },
  {
   "cell_type": "markdown",
   "id": "15f974cb",
   "metadata": {},
   "source": [
    "Commented out the grid search code to save runtime when I restarted the kernel. After adding all the features, Lasso Regression with 0.21 alpha had the best performance."
   ]
  },
  {
   "cell_type": "code",
   "execution_count": null,
   "id": "edc1dac7",
   "metadata": {},
   "outputs": [],
   "source": []
  }
 ],
 "metadata": {
  "kernelspec": {
   "display_name": "Python 3",
   "language": "python",
   "name": "python3"
  },
  "language_info": {
   "codemirror_mode": {
    "name": "ipython",
    "version": 3
   },
   "file_extension": ".py",
   "mimetype": "text/x-python",
   "name": "python",
   "nbconvert_exporter": "python",
   "pygments_lexer": "ipython3",
   "version": "3.8.8"
  }
 },
 "nbformat": 4,
 "nbformat_minor": 5
}
