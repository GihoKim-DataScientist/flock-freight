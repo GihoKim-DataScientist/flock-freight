{
 "cells": [
  {
   "cell_type": "code",
   "execution_count": 1,
   "metadata": {},
   "outputs": [],
   "source": [
    "import pandas as pd\n",
    "import numpy as np\n",
    "\n",
    "# import sys\n",
    "# sys.path.insert(1, \"../src/features\")\n",
    "\n",
    "# allows all columns to be displayed\n",
    "pd.set_option('display.max_columns', None)"
   ]
  },
  {
   "attachments": {},
   "cell_type": "markdown",
   "metadata": {},
   "source": [
    "# Removing Outliers"
   ]
  },
  {
   "attachments": {},
   "cell_type": "markdown",
   "metadata": {},
   "source": [
    "### Read In Data"
   ]
  },
  {
   "attachments": {},
   "cell_type": "markdown",
   "metadata": {},
   "source": [
    "Read in the \"offers\" dataframe which contains all offers FlockFreight ever received, merged with their respective order information"
   ]
  },
  {
   "cell_type": "code",
   "execution_count": 2,
   "metadata": {},
   "outputs": [],
   "source": [
    "offers = pd.read_pickle(\"../data/pickles/merged_clean2.pkl\")"
   ]
  },
  {
   "attachments": {},
   "cell_type": "markdown",
   "metadata": {},
   "source": [
    "Create an aggregated table of \"orders\" which includes the total number of offers and the lowest offer rate each order received"
   ]
  },
  {
   "cell_type": "code",
   "execution_count": 3,
   "metadata": {},
   "outputs": [],
   "source": [
    "orders = offers.copy().sort_values(\"RATE_USD\", ascending=True)\n",
    "orders[\"OFFER_COUNT\"] = orders.groupby(\"REFERENCE_NUMBER\")[\"ORDER_DATETIME_PST\"].transform(\"count\")\n",
    "orders[\"FTL_OFFER_COUNT\"] = orders.groupby(\"REFERENCE_NUMBER\")[\"OFFER_IS_FTL\"].transform(\"sum\")\n",
    "orders = orders.groupby(\"REFERENCE_NUMBER\").first().sort_values(\"ORDER_DATETIME_PST\")"
   ]
  },
  {
   "attachments": {},
   "cell_type": "markdown",
   "metadata": {},
   "source": [
    "### Remove Anomalies"
   ]
  },
  {
   "attachments": {},
   "cell_type": "markdown",
   "metadata": {},
   "source": [
    "Create a set of offer and order anomalies to remove"
   ]
  },
  {
   "cell_type": "code",
   "execution_count": 4,
   "metadata": {},
   "outputs": [],
   "source": [
    "orders_to_drop = set() # set of order REFERENCE_NUMBERs to remove\n",
    "offers_to_drop = set() # set of indicies in the \"orders\" table to remove"
   ]
  },
  {
   "attachments": {},
   "cell_type": "markdown",
   "metadata": {},
   "source": [
    "##### Identify Abnormal Offers"
   ]
  },
  {
   "attachments": {},
   "cell_type": "markdown",
   "metadata": {},
   "source": [
    "From the \"offers\" dataframe which contains all offers ever received, remove offers that suggested abnormally high or low offer rates: above 2.5 z-score."
   ]
  },
  {
   "cell_type": "code",
   "execution_count": 5,
   "metadata": {},
   "outputs": [],
   "source": [
    "rates = offers[\"RATE_USD\"]\n",
    "lower_threshold = np.max([0, np.mean(rates) - 2.5 * np.std(rates)])\n",
    "upper_threshold = np.mean(rates) + 2.5 * np.std(rates)\n",
    "\n",
    "# get outliers\n",
    "offer_outlier = set(offers.index[(rates < lower_threshold) | (rates > upper_threshold)])\n",
    "\n",
    "# remove outliers from data\n",
    "offers_to_drop = offers_to_drop.union(offer_outlier)"
   ]
  },
  {
   "attachments": {},
   "cell_type": "markdown",
   "metadata": {},
   "source": [
    "##### Identify Abnormal Orders"
   ]
  },
  {
   "attachments": {},
   "cell_type": "markdown",
   "metadata": {},
   "source": [
    "The orders dataframe contains aggregated values of unique orders, each of which holds the best offer rate the carriers have offered. \n",
    "\n",
    "This cell removes orders that received abnormally high or low offers: greater than 2.5 z-score."
   ]
  },
  {
   "cell_type": "code",
   "execution_count": 6,
   "metadata": {},
   "outputs": [],
   "source": [
    "rates = orders[\"RATE_USD\"]\n",
    "lower_threshold = np.max([0, np.mean(rates) - 2.5 * np.std(rates)])\n",
    "upper_threshold = np.mean(rates) + 2.5 * np.std(rates)\n",
    "\n",
    "# get outliers\n",
    "order_outlier = set(orders.index[(orders[\"RATE_USD\"] < lower_threshold) | (orders[\"RATE_USD\"] > upper_threshold)])\n",
    "\n",
    "# add to remove list\n",
    "orders_to_drop = orders_to_drop.union(order_outlier)"
   ]
  },
  {
   "attachments": {},
   "cell_type": "markdown",
   "metadata": {},
   "source": [
    "From the aggregated \"orders\" dataframe, remove all orders that received abnormally high or low number of offers: 2.5 z-score."
   ]
  },
  {
   "cell_type": "code",
   "execution_count": 7,
   "metadata": {},
   "outputs": [],
   "source": [
    "offer_count = orders[\"OFFER_COUNT\"]\n",
    "lower_threshold = np.max([0, np.mean(offer_count) - 2.5 * np.std(offer_count)])\n",
    "upper_threshold = np.mean(offer_count) + 2.5 * np.std(offer_count)\n",
    "\n",
    "# get outliers\n",
    "order_outlier = set(orders.index[(offer_count < lower_threshold) | (offer_count > upper_threshold)])\n",
    "\n",
    "# add to remove list\n",
    "orders_to_drop = orders_to_drop.union(order_outlier)"
   ]
  },
  {
   "attachments": {},
   "cell_type": "markdown",
   "metadata": {},
   "source": [
    "From the aggregated \"orders\" dataframe, remove all orders that were placed with abnormally small or large amount of time until the pickup deadline: 2.5 z-score."
   ]
  },
  {
   "cell_type": "code",
   "execution_count": 8,
   "metadata": {},
   "outputs": [],
   "source": [
    "hours = orders[\"GIVEN_HOURS\"]\n",
    "lower_threshold = np.max([0, np.mean(hours) - 2.5 * np.std(hours)])\n",
    "upper_threshold = np.mean(hours) + 2.5 * np.std(hours)\n",
    "\n",
    "# get outliers\n",
    "order_outlier = set(orders.index[(hours < lower_threshold) | (hours > upper_threshold)])\n",
    "\n",
    "# add to remove list\n",
    "orders_to_drop = orders_to_drop.union(order_outlier)"
   ]
  },
  {
   "attachments": {},
   "cell_type": "markdown",
   "metadata": {},
   "source": [
    "From the aggregated \"orders\" dataframe, remove all orders that have abnormally small or large Palletized Linear Feet values: 2.5 z-score."
   ]
  },
  {
   "cell_type": "code",
   "execution_count": 9,
   "metadata": {},
   "outputs": [],
   "source": [
    "length = orders[\"PALLETIZED_LINEAR_FEET\"]\n",
    "lower_threshold = np.max([0, np.mean(length) - 2.5 * np.std(length)])\n",
    "upper_threshold = np.mean(length) + 2.5 * np.std(length)\n",
    "\n",
    "# get outliers\n",
    "order_outlier = set(orders.index[(length < lower_threshold) | (length > upper_threshold)])\n",
    "\n",
    "# add to remove list\n",
    "orders_to_drop = orders_to_drop.union(order_outlier)"
   ]
  },
  {
   "attachments": {},
   "cell_type": "markdown",
   "metadata": {},
   "source": [
    "##### Remove anomalies from the \"offers\"dataframe"
   ]
  },
  {
   "cell_type": "code",
   "execution_count": 10,
   "metadata": {},
   "outputs": [],
   "source": [
    "offer_id_to_keep = [offers[\"REFERENCE_NUMBER\"].apply(lambda ref: ref not in orders_to_drop)]\n",
    "offer_id_to_keep = ([pd.Series(offers.index).apply(lambda id: id not in offers_to_drop)] and offer_id_to_keep)[0]\n",
    "\n",
    "offers = offers[offer_id_to_keep].reset_index(drop=True)"
   ]
  },
  {
   "attachments": {},
   "cell_type": "markdown",
   "metadata": {},
   "source": [
    "Save the new \"offers\" dataframe"
   ]
  },
  {
   "cell_type": "code",
   "execution_count": 11,
   "metadata": {},
   "outputs": [],
   "source": [
    "# offers.to_pickle(\"../data/pickles/merged_clean2_outlier_removed.pkl\")"
   ]
  },
  {
   "attachments": {},
   "cell_type": "markdown",
   "metadata": {},
   "source": [
    "### Recreate \"orders\" dataframe based on the new \"offers\" dataframe"
   ]
  },
  {
   "cell_type": "code",
   "execution_count": 12,
   "metadata": {},
   "outputs": [],
   "source": [
    "orders = offers.copy().sort_values(\"RATE_USD\", ascending=True)\n",
    "orders[\"OFFER_COUNT\"] = orders.groupby(\"REFERENCE_NUMBER\")[\"ORDER_DATETIME_PST\"].transform(\"count\")\n",
    "orders[\"FTL_OFFER_COUNT\"] = orders.groupby(\"REFERENCE_NUMBER\")[\"OFFER_IS_FTL\"].transform(\"sum\")\n",
    "orders = orders.groupby(\"REFERENCE_NUMBER\").first().sort_values(\"ORDER_DATETIME_PST\")"
   ]
  },
  {
   "attachments": {},
   "cell_type": "markdown",
   "metadata": {},
   "source": [
    "Save the new \"orders\" dataframe"
   ]
  },
  {
   "cell_type": "code",
   "execution_count": 13,
   "metadata": {},
   "outputs": [],
   "source": [
    "# orders.to_pickle(\"../data/pickles/orders_clean2_outlier_removed.pkl\")"
   ]
  }
 ],
 "metadata": {
  "kernelspec": {
   "display_name": "Python 3",
   "language": "python",
   "name": "python3"
  },
  "language_info": {
   "codemirror_mode": {
    "name": "ipython",
    "version": 3
   },
   "file_extension": ".py",
   "mimetype": "text/x-python",
   "name": "python",
   "nbconvert_exporter": "python",
   "pygments_lexer": "ipython3",
   "version": "3.9.12"
  },
  "vscode": {
   "interpreter": {
    "hash": "f2d4b9b3a536dc09851504e46ebaa7e677940c42d95070a99f7fba8fe7620061"
   }
  }
 },
 "nbformat": 4,
 "nbformat_minor": 2
}
