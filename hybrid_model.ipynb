{
 "cells": [
  {
   "cell_type": "code",
   "execution_count": 1,
   "metadata": {},
   "outputs": [],
   "source": [
    "import pandas as pd\n",
    "\n",
    "from src.models import pooled_proba_model\n",
    "from src.models import pooled_regression_model\n",
    "from src.models import quote_regression_model\n",
    "\n",
    "from src.features import data_for_modelling\n",
    "\n",
    "# get data\n",
    "orders_raw, offers_raw = data_for_modelling.get_raw_data()\n",
    "\n",
    "# clean data\n",
    "_, _, merged = data_for_modelling.clean_all(orders_raw, offers_raw)\n",
    "\n",
    "# split offers into train test\n",
    "merged_train, merged_test = data_for_modelling.split_train_test(merged)\n",
    "\n",
    "# pickle data\n",
    "merged_train.to_pickle(\"./data/pickels/merged_train.pkl\") \n",
    "merged_test.to_pickle(\"./data/pickels/merged_test.pkl\") \n",
    "\n",
    "# # read pickled data\n",
    "# merged_train = pd.read_pickle(\"./data/pickels/merged_train.pkl\") \n",
    "# merged_test = pd.read_pickle(\"./data/pickels/merged_test.pkl\") "
   ]
  },
  {
   "cell_type": "code",
   "execution_count": 9,
   "metadata": {},
   "outputs": [],
   "source": [
    "pooled_proba_pl, (df_X_test, df_y_test) = pooled_proba_model.generate_probability_pipeline(merged_train)\n",
    "pooled_reg_pl, (df_X_test, df_y_test) = pooled_regression_model.generate_pooled_regression_pipeline(merged_train)\n",
    "quote_reg_pl, (df_X_test, df_y_test) = quote_regression_model.generate_quote_regression_pipeline(merged_train)\n",
    "\n",
    "probas = pooled_proba_pl.predict_proba(merged_test).T[0]\n",
    "pooled_cost = pooled_reg_pl.predict(merged_test)\n",
    "quote_cost = quote_reg_pl.predict(merged_test)\n",
    "\n",
    "weighted_cost = probas * pooled_cost  + (1-probas) *  quote_cost"
   ]
  },
  {
   "cell_type": "code",
   "execution_count": null,
   "metadata": {},
   "outputs": [],
   "source": [
    "merged_test.sort_values(by=[\"ORDER_DATETIME_PST\", \"CREATED_ON_HQ\"], ascending=True)"
   ]
  }
 ],
 "metadata": {
  "kernelspec": {
   "display_name": "Python 3.9.15 ('venv': venv)",
   "language": "python",
   "name": "python3"
  },
  "language_info": {
   "codemirror_mode": {
    "name": "ipython",
    "version": 3
   },
   "file_extension": ".py",
   "mimetype": "text/x-python",
   "name": "python",
   "nbconvert_exporter": "python",
   "pygments_lexer": "ipython3",
   "version": "3.9.15"
  },
  "orig_nbformat": 4,
  "vscode": {
   "interpreter": {
    "hash": "c0b45e24b1532e4bee7552c18fea40c3afd15e0e358717d9263e0f07df741db5"
   }
  }
 },
 "nbformat": 4,
 "nbformat_minor": 2
}
